{
 "cells": [
  {
   "cell_type": "code",
   "execution_count": 4,
   "metadata": {
    "scrolled": true
   },
   "outputs": [],
   "source": [
    "import tensorflow as tf\n",
    "# import cifar10 "
   ]
  },
  {
   "cell_type": "code",
   "execution_count": 11,
   "metadata": {},
   "outputs": [],
   "source": [
    "x = tf.placeholder(\"float64\")\n",
    "y = 2 * x"
   ]
  },
  {
   "cell_type": "code",
   "execution_count": 12,
   "metadata": {},
   "outputs": [],
   "source": [
    "data = tf.random_uniform([4,5],10)"
   ]
  },
  {
   "cell_type": "code",
   "execution_count": 24,
   "metadata": {},
   "outputs": [
    {
     "name": "stdout",
     "output_type": "stream",
     "text": [
      "[[ 5.97019291  9.17050362  9.40855789  9.82953358 19.39525414]\n",
      " [11.21213722 18.72792816 10.00281525 17.03791237 19.96619987]\n",
      " [ 4.78915405  2.57295036  4.64905071  5.60094452  7.65714836]\n",
      " [ 2.99393845  3.72076797 12.21642685  3.95314407  5.29779339]]\n"
     ]
    }
   ],
   "source": [
    "with tf.Session() as sess:\n",
    "    x_data = sess.run(data)\n",
    "    print(sess.run(y, feed_dict = {x:x_data}))"
   ]
  },
  {
   "cell_type": "code",
   "execution_count": 25,
   "metadata": {},
   "outputs": [],
   "source": [
    "sess = tf.InteractiveSession()"
   ]
  },
  {
   "cell_type": "code",
   "execution_count": 26,
   "metadata": {},
   "outputs": [],
   "source": [
    "v_1 = tf.constant([1,2,3,4])\n",
    "v_2 = tf.constant([2,1,5,3])"
   ]
  },
  {
   "cell_type": "code",
   "execution_count": 27,
   "metadata": {},
   "outputs": [],
   "source": [
    "I_matrix = tf.eye(5)\n",
    "v_add = v_1 + v_2 #tf.add(v_1,v_2)"
   ]
  },
  {
   "cell_type": "code",
   "execution_count": 28,
   "metadata": {},
   "outputs": [
    {
     "name": "stdout",
     "output_type": "stream",
     "text": [
      "[3 3 8 7]\n"
     ]
    }
   ],
   "source": [
    "print(v_add.eval())"
   ]
  },
  {
   "cell_type": "code",
   "execution_count": 29,
   "metadata": {},
   "outputs": [
    {
     "name": "stdout",
     "output_type": "stream",
     "text": [
      "[[1. 0. 0. 0. 0.]\n",
      " [0. 1. 0. 0. 0.]\n",
      " [0. 0. 1. 0. 0.]\n",
      " [0. 0. 0. 1. 0.]\n",
      " [0. 0. 0. 0. 1.]]\n"
     ]
    }
   ],
   "source": [
    "print(I_matrix.eval())"
   ]
  },
  {
   "cell_type": "code",
   "execution_count": 18,
   "metadata": {},
   "outputs": [],
   "source": [
    "sess.close()"
   ]
  },
  {
   "cell_type": "code",
   "execution_count": 30,
   "metadata": {},
   "outputs": [
    {
     "name": "stdout",
     "output_type": "stream",
     "text": [
      "[array([1, 2, 3, 4], dtype=int32), array([2, 1, 5, 3], dtype=int32), array([3, 3, 8, 7], dtype=int32)]\n"
     ]
    }
   ],
   "source": [
    "v_1 = tf.constant([1,2,3,4], name='v_1')\n",
    "v_2 = tf.constant([2,1,5,3], name='v_2')\n",
    "v_add = tf.add(v_1,v_2)\n",
    "\n",
    "with tf.Session() as sess:\n",
    "    writer = tf.summary.FileWriter('graphs', sess.graph)\n",
    "    print(sess.run([v_1, v_2,v_add]))\n",
    "\n",
    "writer.close()"
   ]
  },
  {
   "cell_type": "code",
   "execution_count": 31,
   "metadata": {},
   "outputs": [],
   "source": [
    "import tensorflow as tf\n",
    "\n",
    "# Create two random matrices\n",
    "a = tf.Variable(tf.random_normal([4,5], stddev=2))\n",
    "b = tf.Variable(tf.random_normal([4,5], stddev=2))\n",
    "\n",
    "#Element Wise Multiplication\n",
    "A = a * b\n",
    "\n",
    "#Multiplication with a scalar 2\n",
    "B = tf.scalar_mul(2, A)\n",
    "\n",
    "# Elementwise division, its result is\n",
    "C = tf.div(a,b)\n",
    "\n",
    "#Element Wise remainder of division\n",
    "D = tf.mod(a,b)"
   ]
  },
  {
   "cell_type": "code",
   "execution_count": 32,
   "metadata": {},
   "outputs": [
    {
     "name": "stdout",
     "output_type": "stream",
     "text": [
      "a\n",
      " [[-0.34581965  2.0155222   1.583691   -3.5814202   4.0051746 ]\n",
      " [ 1.32602    -0.64756197 -0.8300725  -2.8089929  -1.7727053 ]\n",
      " [-1.8561641   0.25014314  2.884537   -0.7945547   1.08847   ]\n",
      " [-3.6213112  -0.58892465 -0.06799476 -2.1622994  -1.9002154 ]] \n",
      "b\n",
      " [[-0.7518117   1.786733    0.47469935 -1.8431079  -3.0981083 ]\n",
      " [ 0.7043651   2.107448    1.7289753   4.7195387  -0.314354  ]\n",
      " [ 0.5255439   3.581232    3.147119   -1.411378   -0.18946896]\n",
      " [-2.4869244  -1.9029957  -3.3996456   4.7437177  -1.3083881 ]] a*b\n",
      " [[  0.25999126   3.6012       0.7517771    6.600944   -12.408464  ]\n",
      " [  0.93400216  -1.3647033   -1.435175   -13.257151     0.557257  ]\n",
      " [ -0.97549576   0.8958206    9.077981     1.121417    -0.20623128]\n",
      " [  9.005927     1.1207211    0.23115808 -10.257338     2.4862192 ]] \n",
      "2*a*b\n",
      " [[  0.5199825    7.2024       1.5035542   13.201888   -24.816929  ]\n",
      " [  1.8680043   -2.7294066   -2.87035    -26.514301     1.114514  ]\n",
      " [ -1.9509915    1.7916412   18.155962     2.242834    -0.41246256]\n",
      " [ 18.011854     2.2414422    0.46231616 -20.514675     4.9724383 ]] \n",
      "a/b\n",
      " [[ 0.45998174  1.1280489   3.3361979   1.9431418  -1.2927808 ]\n",
      " [ 1.8825749  -0.30727303 -0.4800951  -0.5951838   5.6392007 ]\n",
      " [-3.5318913   0.06984834  0.9165643   0.5629638  -5.744846  ]\n",
      " [ 1.4561404   0.3094724   0.02000054 -0.4558238   1.4523331 ]] \n",
      "a%b\n",
      " [[-0.34581965  0.22878921  0.15959296 -1.7383122  -2.191042  ]\n",
      " [ 0.6216549   1.4598861   0.8989028   1.9105458  -0.2009353 ]\n",
      " [ 0.24601161  0.25014314  2.884537   -0.7945547  -0.04834381]\n",
      " [-1.1343868  -0.58892465 -0.06799476  2.5814183  -0.5918273 ]]\n"
     ]
    }
   ],
   "source": [
    "# Pairwise cross product\n",
    "#E = tf.cross(a,b)\n",
    "init_op = tf.global_variables_initializer()\n",
    "with tf.Session() as sess:\n",
    "    sess.run(init_op)\n",
    "    writer = tf.summary.FileWriter('graphs', sess.graph)\n",
    "    a,b,A_R, B_R, C_R, D_R = sess.run([a , b, A, B, C, D])\n",
    "    print(\"a\\n\",a,\"\\nb\\n\",b, \"a*b\\n\", A_R, \"\\n2*a*b\\n\", B_R, \"\\na/b\\n\", C_R, \"\\na%b\\n\", D_R)"
   ]
  },
  {
   "cell_type": "code",
   "execution_count": 33,
   "metadata": {},
   "outputs": [],
   "source": [
    "writer.close()"
   ]
  },
  {
   "cell_type": "code",
   "execution_count": 34,
   "metadata": {},
   "outputs": [
    {
     "name": "stdout",
     "output_type": "stream",
     "text": [
      "[0. 0. 0. 0. 0.]\n",
      "[[1. 0. 0. 0. 0. 0. 0. 0. 0. 0.]\n",
      " [0. 1. 0. 0. 0. 0. 0. 0. 0. 0.]\n",
      " [0. 0. 1. 0. 0. 0. 0. 0. 0. 0.]\n",
      " [0. 0. 0. 1. 0. 0. 0. 0. 0. 0.]\n",
      " [0. 0. 0. 0. 1. 0. 0. 0. 0. 0.]\n",
      " [0. 0. 0. 0. 0. 1. 0. 0. 0. 0.]\n",
      " [0. 0. 0. 0. 0. 0. 1. 0. 0. 0.]\n",
      " [0. 0. 0. 0. 0. 0. 0. 1. 0. 0.]\n",
      " [0. 0. 0. 0. 0. 0. 0. 0. 1. 0.]\n",
      " [0. 0. 0. 0. 0. 0. 0. 0. 0. 1.]]\n",
      "[[-0.17668113  0.3418768   0.8439684   1.0421085   1.1907011   1.217085\n",
      "   0.21459468 -0.23792838 -0.37712264 -0.15026723]\n",
      " [ 1.7582514   0.11594383 -0.19816738 -1.0890692  -0.84492165 -0.4463609\n",
      "   0.25719205 -1.202865    1.3813652   1.2100058 ]\n",
      " [-0.07888043 -0.76614994 -0.5707574  -1.2302355   3.2975595   1.2245427\n",
      "  -0.55585575  0.18740521  1.3929169  -1.7373625 ]\n",
      " [-1.5776305  -0.30428118 -1.0878478   0.4026691  -0.19044432 -0.90406615\n",
      "   0.32933357  0.9011506  -0.56566256  0.29069605]\n",
      " [ 0.63956374 -1.1280127  -0.26106322  0.24408016  0.84324354 -0.43724787\n",
      "   2.1963525   1.0599005   0.17558433  1.5126699 ]]\n",
      "[[0 1 1 0 1 0 0 0 0 0]\n",
      " [0 1 0 0 0 0 1 0 1 0]\n",
      " [1 0 0 0 0 1 1 0 0 0]\n",
      " [1 1 0 1 0 1 1 0 1 1]\n",
      " [0 0 1 1 1 1 0 0 1 0]]\n",
      "A*X _b\n",
      " [[-0.17668113  1.3418767   1.8439684   1.0421085   2.190701    1.217085\n",
      "   0.21459468 -0.23792838 -0.37712264 -0.15026723]\n",
      " [ 1.7582514   1.1159438  -0.19816738 -1.0890692  -0.84492165 -0.4463609\n",
      "   1.257192   -1.202865    2.3813653   1.2100058 ]\n",
      " [ 0.9211196  -0.76614994 -0.5707574  -1.2302355   3.2975595   2.2245426\n",
      "   0.44414425  0.18740521  1.3929169  -1.7373625 ]\n",
      " [-0.5776305   0.6957188  -1.0878478   1.4026691  -0.19044432  0.09593385\n",
      "   1.3293335   0.9011506   0.43433744  1.290696  ]\n",
      " [ 0.63956374 -1.1280127   0.7389368   1.2440802   1.8432436   0.5627521\n",
      "   2.1963525   1.0599005   1.1755843   1.5126699 ]]\n",
      "A*X - b\n",
      " [[-0.17668113 -0.6581232  -0.15603161  1.0421085   0.19070113  1.217085\n",
      "   0.21459468 -0.23792838 -0.37712264 -0.15026723]\n",
      " [ 1.7582514  -0.88405615 -0.19816738 -1.0890692  -0.84492165 -0.4463609\n",
      "  -0.742808   -1.202865    0.38136518  1.2100058 ]\n",
      " [-1.0788804  -0.76614994 -0.5707574  -1.2302355   3.2975595   0.22454274\n",
      "  -1.5558558   0.18740521  1.3929169  -1.7373625 ]\n",
      " [-2.5776305  -1.3042812  -1.0878478  -0.5973309  -0.19044432 -1.9040661\n",
      "  -0.67066646  0.9011506  -1.5656626  -0.709304  ]\n",
      " [ 0.63956374 -1.1280127  -1.2610632  -0.7559198  -0.15675646 -1.4372479\n",
      "   2.1963525   1.0599005  -0.8244157   1.5126699 ]]\n"
     ]
    }
   ],
   "source": [
    "import tensorflow as tf\n",
    "\n",
    "#Start an Interactive Session\n",
    "sess = tf.InteractiveSession()\n",
    "\n",
    "#Define a 5x5 Identity matrix\n",
    "I_matrix = tf.zeros(5)\n",
    "print(I_matrix.eval()) # This will print a zero matrix with 5 elements\n",
    "\n",
    "#Define a Variable initialized to a 10x10 identity matrix\n",
    "X = tf.Variable(tf.eye(10))\n",
    "X.initializer.run()  # Initialize the Variable\n",
    "print(X.eval()) # Evaluate the Variable and print the result\n",
    "\n",
    "#Create a random 5x10 matrix\n",
    "A = tf.Variable(tf.random_normal([5,10]))\n",
    "A.initializer.run()\n",
    "\n",
    "#Multiply two matrices\n",
    "product = tf.matmul(A, X)\n",
    "print(product.eval())\n",
    "\n",
    "#create a random matrix of 1s and 0s, size 5x10\n",
    "b = tf.Variable(tf.random_uniform([5,10], 0, 2, dtype= tf.int32))\n",
    "b.initializer.run()\n",
    "print(b.eval())\n",
    "b_new = tf.cast(b, dtype=tf.float32)\n",
    "\n",
    "# Add the two matrices\n",
    "t_sum = tf.add(product, b_new)\n",
    "t_sub = product -b_new\n",
    "print(\"A*X _b\\n\", t_sum.eval())\n",
    "print(\"A*X - b\\n\", t_sub.eval())"
   ]
  },
  {
   "cell_type": "code",
   "execution_count": 40,
   "metadata": {},
   "outputs": [
    {
     "name": "stdout",
     "output_type": "stream",
     "text": [
      "[name: \"/device:CPU:0\"\n",
      "device_type: \"CPU\"\n",
      "memory_limit: 268435456\n",
      "locality {\n",
      "}\n",
      "incarnation: 1819235665674310634\n",
      "]\n"
     ]
    }
   ],
   "source": [
    "from tensorflow.python.client import device_lib\n",
    "print(device_lib.list_local_devices())"
   ]
  },
  {
   "cell_type": "code",
   "execution_count": 42,
   "metadata": {},
   "outputs": [],
   "source": [
    "import tensorflow as tf\n",
    "import os\n",
    "os.environ['TF_CPP_MIN_LOG_LEVEL']='2'  ## To deactivate SSE Warnings\n",
    "# Create a graph\n",
    "\n",
    "# Selecting only CPU\n",
    "with tf.device('/cpu:0'):\n",
    "    rand_t = tf.random_uniform([50, 50], 0, 10, dtype=tf.float32, seed=0)\n",
    "    a = tf.Variable(rand_t)\n",
    "    b = tf.Variable(rand_t)\n",
    "    c = tf.matmul(a, b)\n",
    "    init = tf.global_variables_initializer()"
   ]
  },
  {
   "cell_type": "code",
   "execution_count": 43,
   "metadata": {},
   "outputs": [],
   "source": [
    "sess = tf.Session(config=tf.ConfigProto(allow_soft_placement=True,log_device_placement=True))"
   ]
  },
  {
   "cell_type": "code",
   "execution_count": 44,
   "metadata": {},
   "outputs": [],
   "source": [
    "sess.run(init)"
   ]
  },
  {
   "cell_type": "code",
   "execution_count": 45,
   "metadata": {},
   "outputs": [
    {
     "name": "stdout",
     "output_type": "stream",
     "text": [
      "[[1405.2432  1441.7412  1364.38    ... 1480.2251  1279.0061  1620.0938 ]\n",
      " [1232.6588  1344.4459  1169.7092  ... 1205.1285  1040.5566  1421.9672 ]\n",
      " [1209.3167  1180.3208  1158.1396  ... 1200.0343  1014.03217 1222.5106 ]\n",
      " ...\n",
      " [1298.9648  1262.9236  1205.6917  ... 1396.479   1090.7252  1437.2411 ]\n",
      " [1118.2474  1209.0155  1077.7229  ... 1180.7023  1076.4692  1139.7421 ]\n",
      " [1200.8864  1297.2268  1260.0101  ... 1289.4296  1165.2449  1433.4185 ]]\n"
     ]
    }
   ],
   "source": [
    "print(sess.run(c))"
   ]
  },
  {
   "cell_type": "code",
   "execution_count": 46,
   "metadata": {},
   "outputs": [],
   "source": [
    "sess.close()"
   ]
  },
  {
   "cell_type": "code",
   "execution_count": null,
   "metadata": {},
   "outputs": [],
   "source": []
  }
 ],
 "metadata": {
  "kernelspec": {
   "display_name": "Python [conda env:tensorflow] *",
   "language": "python",
   "name": "conda-env-tensorflow-py"
  },
  "language_info": {
   "codemirror_mode": {
    "name": "ipython",
    "version": 3
   },
   "file_extension": ".py",
   "mimetype": "text/x-python",
   "name": "python",
   "nbconvert_exporter": "python",
   "pygments_lexer": "ipython3",
   "version": "3.6.2"
  }
 },
 "nbformat": 4,
 "nbformat_minor": 2
}
